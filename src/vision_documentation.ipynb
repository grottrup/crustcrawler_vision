{
 "cells": [
  {
   "cell_type": "code",
   "execution_count": 35,
   "metadata": {},
   "outputs": [],
   "source": [
    "import cv2\n",
    "import numpy as np\n",
    "import imageio\n",
    "\n",
    "class Brick:\n",
    "    x_center = 0\n",
    "    y_center = 0\n",
    "    pixel_width = 0\n",
    "    pixel_height = 0\n",
    "    rotation_degrees = 0.0\n",
    "    \n",
    "'''\n",
    "https://github.com/alexleavitt/uscplayspokemon/blob/master/tommycam.py\n",
    "'''\n",
    "def get_video_capture_frame(video_capture_url_jpg_str):\n",
    "    img_request = imageio.imread(video_capture_url_jpg_str)[:,:,::-1] #JPG to BGR\n",
    "    if (img_request is None) or (not img_request.shape):\n",
    "        print('No image')\n",
    "        return False, None\n",
    "    return True, img_request\n",
    "\n",
    "'''\n",
    "https://docs.opencv.org/master/d7/d4d/tutorial_py_thresholding.html\n",
    "'''\n",
    "def threshold_frame(img_frame, min_threshold):\n",
    "    ret, thresholded_frame = cv2.threshold(img_frame, min_threshold, 255, cv2.THRESH_BINARY)\n",
    "    return thresholded_frame\n",
    "\n",
    "\n",
    "'''\n",
    "https://docs.opencv.org/master/d4/d13/tutorial_py_filtering.html\n",
    "https://docs.opencv.org/master/d4/d86/group__imgproc__filter.html#ga9d7064d478c95d60003cf839430737ed\n",
    "'''\n",
    "def remove_noise(img_frame):\n",
    "    result = img_frame\n",
    "    result = cv2.bilateralFilter(result,16,32,32) \n",
    "    \n",
    "    kernel = np.ones((2, 2),np.uint8)\n",
    "    result = cv2.morphologyEx(result, cv2.MORPH_OPEN, kernel) \n",
    "    \n",
    "    kernel = np.ones((9, 9),np.uint8)\n",
    "    result = cv2.morphologyEx(result, cv2.MORPH_CLOSE, kernel)\n",
    "   \n",
    "    result = cv2.bilateralFilter(result,3,16,16)\n",
    "    return result\n",
    "\n",
    "\n",
    "def filter_max_rgb(img_frame):\n",
    "    (B, G, R) = cv2.split(img_frame)\n",
    "    M = np.maximum(np.maximum(R, G), B)\n",
    "    R[R < M] = 0\n",
    "    G[G < M] = 0\n",
    "    B[B < M] = 0\n",
    "    result = cv2.merge([B, G, R])\n",
    "    return result\n",
    "'''\n",
    "https://docs.opencv.org/master/df/d9d/tutorial_py_colorspaces.html\n",
    "https://stackoverflow.com/questions/56905592/automatic-contrast-and-brightness-adjustment-of-a-color-photo-of-a-sheet-of-pape????\n",
    "'''\n",
    "def blue_color_mask(img_frame):\n",
    "    result = img_frame       \n",
    "#    result = cv2.convertScaleAbs(result, alpha=1.95, beta=0) \n",
    "    result = cv2.cvtColor(result, cv2.COLOR_BGR2HSV)\n",
    "    lower_blue = np.array([50,50,80])\n",
    "    upper_blue = np.array([140,255,255])\n",
    "    result = cv2.inRange(result, lower_blue, upper_blue)\n",
    "\n",
    "    ret, result = cv2.threshold(result, 50, 255, cv2.THRESH_BINARY)\n",
    "    return result\n",
    "\n",
    "def filter_blue_bricks(img_frame):\n",
    "    frame = img_frame\n",
    "    frame = blue_color_mask(frame)\n",
    "    frame = remove_noise(frame)\n",
    "    blue_brick_arr = find_brick_centers(frame) \n",
    "    return blue_brick_arr, frame\n",
    "\n",
    "def filter_red_bricks(img_frame):\n",
    "    result = img_frame\n",
    "    # result = filter_excess_red_frame(img_frame)\n",
    "    result = threshold_frame(result, 200)\n",
    "    #result = remove_noise(result)\n",
    "    result = find_brick_centers(result)    \n",
    "    return result\n",
    "\n",
    "def find_brick_centers(img_frame):\n",
    "    frame = img_frame\n",
    "    contours, hierarchy = cv2.findContours(frame.astype('uint8'), cv2.RETR_EXTERNAL, cv2.CHAIN_APPROX_SIMPLE)\n",
    "\n",
    "    brick_arr = []\n",
    "    for contour in contours:\n",
    "        pixel_areal = cv2.contourArea(contour)\n",
    "        if(pixel_areal > 1500):\n",
    "            brick = Brick()\n",
    "            M = cv2.moments(contour)\n",
    "            brick.x_center = int(M['m10']/M['m00'])\n",
    "            brick.y_center = int(M['m01']/M['m00'])\n",
    "            rectangle_w_rotation = cv2.minAreaRect(contour)\n",
    "            brick.pixel_width = rectangle_w_rotation[1][0]\n",
    "            brick.pixel_height = rectangle_w_rotation[1][1]\n",
    "            brick.rotation_degrees = rectangle_w_rotation[2]\n",
    "            #box_points = cv2.cv.BoxPoints(rectangle_w_rotation)\n",
    "            #print(rectangle_w_rotation)\n",
    "            print(brick.rotation_degrees)\n",
    "            #print(brick.pixel_width)\n",
    "            #print(brick.pixel_height)\n",
    "            brick_arr.append(brick)\n",
    "            # frame = cv2.circle(frame,(cx, cy),10,(0,255,0))\n",
    "            # cv2.imshow('blue', frame)\n",
    "        elif(pixel_areal > 600):\n",
    "            brick = Brick()\n",
    "            M = cv2.moments(contour)\n",
    "            brick.x_center = int(M['m10']/M['m00'])\n",
    "            brick.y_center = int(M['m01']/M['m00'])\n",
    "            brick_arr.append(brick)\n",
    "            #result = cv2.circle(result,(cx, cy),5,(0,255,0))\n",
    "    return brick_arr"
   ]
  },
  {
   "cell_type": "code",
   "execution_count": 36,
   "metadata": {},
   "outputs": [],
   "source": [
    "#from vision_util import *\n",
    "import cv2\n",
    "import numpy as np\n",
    "from matplotlib import pyplot as plt"
   ]
  },
  {
   "cell_type": "code",
   "execution_count": 37,
   "metadata": {},
   "outputs": [],
   "source": [
    "ret, img1 = get_video_capture_frame('cr_bricks.jpg')\n",
    "ret, img2 = get_video_capture_frame('cr2.jpg')\n",
    "ret, img3 = get_video_capture_frame('cr3.jpg')\n",
    "ret, img4 = get_video_capture_frame('cr4.jpg')\n",
    "ret, img5 = get_video_capture_frame('cr1.jpg')"
   ]
  },
  {
   "cell_type": "code",
   "execution_count": 38,
   "metadata": {},
   "outputs": [
    {
     "data": {
      "text/plain": [
       "<matplotlib.image.AxesImage at 0x7f9a49c2ff28>"
      ]
     },
     "execution_count": 38,
     "metadata": {},
     "output_type": "execute_result"
    },
    {
     "data": {
      "image/png": "[encoded data removed]",
      "text/plain": [
       "<Figure size 432x288 with 1 Axes>"
      ]
     },
     "metadata": {
      "needs_background": "light"
     },
     "output_type": "display_data"
    }
   ],
   "source": [
    "img = img1[75:img1.shape[0]-140, 32:img1.shape[1]-2]\n",
    "plt.imshow(img)"
   ]
  },
  {
   "cell_type": "code",
   "execution_count": 41,
   "metadata": {},
   "outputs": [
    {
     "name": "stdout",
     "output_type": "stream",
     "text": [
      "-90.0\n",
      "-63.43495178222656\n",
      "-1.5074357986450195\n"
     ]
    },
    {
     "data": {
      "text/plain": [
       "<matplotlib.image.AxesImage at 0x7f9a49ad19e8>"
      ]
     },
     "execution_count": 41,
     "metadata": {},
     "output_type": "execute_result"
    },
    {
     "data": {
      "image/png": "[encoded data removed]",
      "text/plain": [
       "<Figure size 432x288 with 1 Axes>"
      ]
     },
     "metadata": {
      "needs_background": "light"
     },
     "output_type": "display_data"
    }
   ],
   "source": [
    "def find_bricks(img_frame):\n",
    "    frame = img_frame\n",
    "    contours, hierarchy = cv2.findContours(frame.astype('uint8'), cv2.RETR_EXTERNAL, cv2.CHAIN_APPROX_SIMPLE)\n",
    "\n",
    "    brick_arr = []\n",
    "    for contour in contours:\n",
    "        pixel_areal = cv2.contourArea(contour)\n",
    "        if(pixel_areal > 600):\n",
    "            brick = Brick()\n",
    "            M = cv2.moments(contour)\n",
    "            brick.x_center = int(M['m10']/M['m00'])\n",
    "            brick.y_center = int(M['m01']/M['m00'])\n",
    "            rectangle_w_rotation = cv2.minAreaRect(contour)\n",
    "            brick.pixel_width = rectangle_w_rotation[1][0]\n",
    "            brick.pixel_height = rectangle_w_rotation[1][1]\n",
    "            brick.rotation_degrees = rectangle_w_rotation[2]\n",
    "            print(brick.rotation_degrees)\n",
    "            #print(brick.pixel_width)\n",
    "            #print(brick.pixel_height)\n",
    "            brick_arr.append(brick)\n",
    "            text_offset = 30\n",
    "            frame = cv2.putText(img=frame,\n",
    "                text='{:.0f}deg'.format(brick.rotation_degrees),\n",
    "                org=(brick.x_center + text_offset, brick.y_center - text_offset),\n",
    "                fontFace=cv2.FONT_HERSHEY_SIMPLEX,\n",
    "                fontScale=1,\n",
    "                color=(155, 255, 255),\n",
    "                thickness=3) \n",
    "    return brick_arr, frame\n",
    "\n",
    "def filter_blue_bricks(img_frame):\n",
    "    frame = img_frame\n",
    "    frame = blue_color_mask(frame)\n",
    "    frame = remove_noise(frame)\n",
    "    blue_brick_arr, frame = find_bricks(frame) \n",
    "    return blue_brick_arr, frame\n",
    "\n",
    "arr, frame = filter_blue_bricks(img)\n",
    "\n",
    "plt.imshow(frame)"
   ]
  },
  {
   "cell_type": "markdown",
   "metadata": {},
   "source": [
    "First the image is cropped to avoid noise outside of the table. The Crustcrawler has a base with the a width of 11.5 cm. In order to later translate the pixel width of the image into centimeter we are going to use it for calibration. This could also be done with another distinct visual marker."
   ]
  },
  {
   "cell_type": "code",
   "execution_count": 1,
   "metadata": {},
   "outputs": [
    {
     "ename": "NameError",
     "evalue": "name 'crop' is not defined",
     "output_type": "error",
     "traceback": [
      "\u001b[0;31m---------------------------------------------------------------------------\u001b[0m",
      "\u001b[0;31mNameError\u001b[0m                                 Traceback (most recent call last)",
      "\u001b[0;32m<ipython-input-1-9b146dcc6be2>\u001b[0m in \u001b[0;36m<module>\u001b[0;34m\u001b[0m\n\u001b[1;32m     39\u001b[0m     \u001b[0;32mreturn\u001b[0m \u001b[0mcrustcrawler\u001b[0m\u001b[0;34m,\u001b[0m \u001b[0mframe\u001b[0m\u001b[0;34m\u001b[0m\u001b[0;34m\u001b[0m\u001b[0m\n\u001b[1;32m     40\u001b[0m \u001b[0;34m\u001b[0m\u001b[0m\n\u001b[0;32m---> 41\u001b[0;31m \u001b[0mcrust\u001b[0m \u001b[0;34m=\u001b[0m \u001b[0mfilter_crustcrawler\u001b[0m\u001b[0;34m(\u001b[0m\u001b[0mcrop\u001b[0m\u001b[0;34m)\u001b[0m\u001b[0;34m\u001b[0m\u001b[0;34m\u001b[0m\u001b[0m\n\u001b[0m\u001b[1;32m     42\u001b[0m \u001b[0mprint\u001b[0m\u001b[0;34m(\u001b[0m\u001b[0mbase\u001b[0m\u001b[0;34m.\u001b[0m\u001b[0mx2\u001b[0m\u001b[0;34m)\u001b[0m\u001b[0;34m\u001b[0m\u001b[0;34m\u001b[0m\u001b[0m\n\u001b[1;32m     43\u001b[0m \u001b[0mbase\u001b[0m\u001b[0;34m,\u001b[0m \u001b[0mframe\u001b[0m \u001b[0;34m=\u001b[0m \u001b[0mfind_crustcrawler_pixel_width\u001b[0m\u001b[0;34m(\u001b[0m\u001b[0mcrust\u001b[0m\u001b[0;34m)\u001b[0m\u001b[0;34m\u001b[0m\u001b[0;34m\u001b[0m\u001b[0m\n",
      "\u001b[0;31mNameError\u001b[0m: name 'crop' is not defined"
     ]
    }
   ],
   "source": [
    "class Crustcrawler:\n",
    "    x1 = 0\n",
    "    x2 = 0\n",
    "    base_pixel_width = 0\n",
    "\n",
    "'''\n",
    "Hue mask\n",
    "'''\n",
    "def crustcrawler_mask(img_frame):\n",
    "    result = img_frame       \n",
    "    result = cv2.cvtColor(result, cv2.COLOR_BGR2HSV)\n",
    "    lower_rgb = np.array([0,0,0])\n",
    "    upper_rgb = np.array([120,120,90])\n",
    "    result = cv2.inRange(result, lower_rgb, upper_rgb)\n",
    "\n",
    "    ret, result = cv2.threshold(result, 50, 255, cv2.THRESH_BINARY)\n",
    "    return result\n",
    "\n",
    "'''\n",
    "'''\n",
    "def filter_crustcrawler(img_frame):\n",
    "    frame = img_frame\n",
    "    frame = crustcrawler_mask(frame)\n",
    "    frame = vs.remove_noise(frame)\n",
    "    return frame\n",
    "\n",
    "def find_crustcrawler_pixel_width(img_frame):\n",
    "    frame = img_frame\n",
    "    contours, hierarchy = cv2.findContours(frame.astype('uint8'), cv2.RETR_EXTERNAL, cv2.CHAIN_APPROX_SIMPLE)\n",
    "    crustcrawler = Crustcrawler()\n",
    "    \n",
    "    for contour in contours:\n",
    "        pixel_areal = cv2.contourArea(contour)\n",
    "        rectangle_w_rotation = cv2.minAreaRect(contour) # use the one without rotation\n",
    "        crustcrawler.x1 = rectangle_w_rotation[0][0]\n",
    "        crustcrawler.x2 = rectangle_w_rotation[1][0]\n",
    "        print(rectangle_w_rotation)    \n",
    "    \n",
    "    return crustcrawler, frame\n",
    "    \n",
    "crust = filter_crustcrawler(crop)\n",
    "print(base.x2)\n",
    "base, frame = find_crustcrawler_pixel_width(crust)\n",
    "\n",
    "#rgb_img = cv2.cvtColor(binary_img, cv.CV_GRAY2RGB)\n",
    "cv2.line(frame, (int(base.x1),150), (int(base.x2), 150), (255,255,255), thickness=8)\n",
    "print(base)\n",
    "plt.imshow(frame)"
   ]
  },
  {
   "cell_type": "code",
   "execution_count": null,
   "metadata": {},
   "outputs": [],
   "source": [
    "cropped_img = img[52:img.shape[0]-197, 28:img.shape[1]-2]\n",
    "\n",
    "plt.imshow(cropped_img)"
   ]
  },
  {
   "cell_type": "code",
   "execution_count": null,
   "metadata": {},
   "outputs": [],
   "source": [
    "plt.imshow(img2)"
   ]
  },
  {
   "cell_type": "code",
   "execution_count": null,
   "metadata": {},
   "outputs": [],
   "source": [
    "plt.imshow(img3)"
   ]
  },
  {
   "cell_type": "code",
   "execution_count": null,
   "metadata": {},
   "outputs": [],
   "source": [
    "def find_brick_centers(img_frame):\n",
    "    frame = img_frame\n",
    "    contours, hierarchy = cv2.findContours(frame.astype('uint8'), cv2.RETR_EXTERNAL, cv2.CHAIN_APPROX_SIMPLE)\n",
    "\n",
    "    brick_arr = []\n",
    "    for contour in contours:\n",
    "        pixel_areal = cv2.contourArea(contour)\n",
    "        if(pixel_areal > 1500):\n",
    "            brick = Brick()\n",
    "            M = cv2.moments(contour)\n",
    "            brick.x_center = int(M['m10']/M['m00'])\n",
    "            brick.y_center = int(M['m01']/M['m00'])\n",
    "            rectangle_w_rotation = cv2.minAreaRect(contour)\n",
    "            brick.pixel_width = rectangle_w_rotation[1][0]\n",
    "            brick.pixel_height = rectangle_w_rotation[1][1]\n",
    "            brick.rotation_degrees = rectangle_w_rotation[2]\n",
    "            #box_points = cv2.cv.BoxPoints(rectangle_w_rotation)\n",
    "            #print(rectangle_w_rotation)\n",
    "            print(brick.rotation_degrees)\n",
    "            #print(brick.pixel_width)\n",
    "            #print(brick.pixel_height)\n",
    "            brick_arr.append(brick)\n",
    "            # frame = cv2.circle(frame,(cx, cy),10,(0,255,0))\n",
    "            # cv2.imshow('blue', frame)\n",
    "        elif(pixel_areal > 600):\n",
    "            brick = Brick()\n",
    "            M = cv2.moments(contour)\n",
    "            brick.x_center = int(M['m10']/M['m00'])\n",
    "            brick.y_center = int(M['m01']/M['m00'])\n",
    "            brick_arr.append(brick)\n",
    "            #result = cv2.circle(result,(cx, cy),5,(0,255,0))\n",
    "    return brick_arr"
   ]
  }
 ],
 "metadata": {
  "kernelspec": {
   "display_name": "Python 3",
   "language": "python",
   "name": "python3"
  },
  "language_info": {
   "codemirror_mode": {
    "name": "ipython",
    "version": 3
   },
   "file_extension": ".py",
   "mimetype": "text/x-python",
   "name": "python",
   "nbconvert_exporter": "python",
   "pygments_lexer": "ipython3",
   "version": "3.6.8"
  }
 },
 "nbformat": 4,
 "nbformat_minor": 2
}
