{
 "cells": [
  {
   "cell_type": "code",
   "execution_count": 14,
   "metadata": {},
   "outputs": [],
   "source": [
    "from vision_util import *\n",
    "import cv2\n",
    "import numpy as np\n",
    "from matplotlib import pyplot as plt"
   ]
  },
  {
   "cell_type": "code",
   "execution_count": 27,
   "metadata": {},
   "outputs": [],
   "source": [
    "def filter_blue_bricks(img_frame):\n",
    "    frame = img_frame\n",
    "    frame = blue_color_mask(frame)\n",
    "    frame = remove_noise(frame) # toggle to test noise filer\n",
    "    blue_brick_arr = find_bricks(frame) \n",
    "    return frame, blue_brick_arr"
   ]
  },
  {
   "cell_type": "code",
   "execution_count": 60,
   "metadata": {},
   "outputs": [],
   "source": [
    "ret, cam = get_video_capture_frame('cr_45.jpg')"
   ]
  },
  {
   "cell_type": "code",
   "execution_count": 64,
   "metadata": {},
   "outputs": [
    {
     "name": "stdout",
     "output_type": "stream",
     "text": [
      "Blue bricks count: 3\n",
      "Large brick\n",
      "\n",
      "    coor:(285,132)    rotation:-0.0    px width:31.0    px height:29.0\n",
      "Small brick\n",
      "\n",
      "    coor:(158,123)    rotation:-63.43495178222656    px width:31.75216293334961    px height:33.541019439697266\n",
      "    coor:(375,49)    rotation:-0.0    px width:52.0    px height:52.0\n"
     ]
    },
    {
     "data": {
      "text/plain": [
       "<matplotlib.image.AxesImage at 0x7f30f17028d0>"
      ]
     },
     "execution_count": 64,
     "metadata": {},
     "output_type": "execute_result"
    },
    {
     "data": {
      "image/png": "[encoded data removed]",
      "text/plain": [
       "<Figure size 432x288 with 1 Axes>"
      ]
     },
     "metadata": {
      "needs_background": "light"
     },
     "output_type": "display_data"
    }
   ],
   "source": [
    "img = cam[75:cam.shape[0]-140, 35:cam.shape[1]-5]\n",
    "img, arr = filter_blue_bricks(img)\n",
    "print('Blue bricks count: {}'.format(len(arr)))\n",
    "print('Large brick\\n')\n",
    "print('    coor:({},{})    rotation:{}    px width:{}    px height:{}'.format(arr[0].x_center, arr[0].y_center, arr[0].rotation_degrees, arr[0].pixel_width, arr[0].pixel_height))\n",
    "\n",
    "print('Small brick\\n')\n",
    "print('    coor:({},{})    rotation:{}    px width:{}    px height:{}'.format(arr[1].x_center, arr[1].y_center, arr[1].rotation_degrees, arr[1].pixel_width, arr[1].pixel_height))\n",
    "print('    coor:({},{})    rotation:{}    px width:{}    px height:{}'.format(arr[2].x_center, arr[2].y_center, arr[2].rotation_degrees, arr[2].pixel_width, arr[2].pixel_height))\n",
    "\n",
    "plt.imshow(img)"
   ]
  },
  {
   "cell_type": "code",
   "execution_count": null,
   "metadata": {},
   "outputs": [],
   "source": []
  },
  {
   "cell_type": "code",
   "execution_count": null,
   "metadata": {},
   "outputs": [],
   "source": []
  }
 ],
 "metadata": {
  "kernelspec": {
   "display_name": "Python 3",
   "language": "python",
   "name": "python3"
  },
  "language_info": {
   "codemirror_mode": {
    "name": "ipython",
    "version": 3
   },
   "file_extension": ".py",
   "mimetype": "text/x-python",
   "name": "python",
   "nbconvert_exporter": "python",
   "pygments_lexer": "ipython3",
   "version": "3.6.8"
  }
 },
 "nbformat": 4,
 "nbformat_minor": 2
}
